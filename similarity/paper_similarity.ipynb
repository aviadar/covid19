{
  "nbformat": 4,
  "nbformat_minor": 0,
  "metadata": {
    "colab": {
      "name": "paper_similarity.ipynb",
      "provenance": []
    },
    "kernelspec": {
      "name": "python3",
      "display_name": "Python 3"
    },
    "language_info": {
      "name": "python"
    }
  },
  "cells": [
    {
      "cell_type": "code",
      "execution_count": 4,
      "metadata": {
        "colab": {
          "base_uri": "https://localhost:8080/"
        },
        "id": "nyAnWtO_oqKf",
        "outputId": "8912f70d-0b9e-403d-965a-4ce38f420ca7"
      },
      "outputs": [
        {
          "output_type": "stream",
          "name": "stdout",
          "text": [
            "Drive already mounted at /content/drive; to attempt to forcibly remount, call drive.mount(\"/content/drive\", force_remount=True).\n"
          ]
        }
      ],
      "source": [
        "import sys\n",
        "import pickle\n",
        "from google.colab import drive\n",
        "import pandas as pd\n",
        "drive.mount('/content/drive')"
      ]
    },
    {
      "cell_type": "code",
      "source": [
        "!git clone https://github.com/aviadar/covid19 proj"
      ],
      "metadata": {
        "colab": {
          "base_uri": "https://localhost:8080/"
        },
        "id": "vUCR-USVowzG",
        "outputId": "d211c672-49c4-4ccd-a7db-6dea879a8b9e"
      },
      "execution_count": 2,
      "outputs": [
        {
          "output_type": "stream",
          "name": "stdout",
          "text": [
            "Cloning into 'proj'...\n",
            "remote: Enumerating objects: 147, done.\u001b[K\n",
            "remote: Counting objects: 100% (147/147), done.\u001b[K\n",
            "remote: Compressing objects: 100% (102/102), done.\u001b[K\n",
            "remote: Total 147 (delta 83), reused 106 (delta 42), pack-reused 0\u001b[K\n",
            "Receiving objects: 100% (147/147), 1.51 MiB | 9.12 MiB/s, done.\n",
            "Resolving deltas: 100% (83/83), done.\n"
          ]
        }
      ]
    },
    {
      "cell_type": "code",
      "source": [
        "sys.path.insert(0,'/content/proj')\n",
        "\n",
        "from utilities.sentence_utility import SentenceUtil"
      ],
      "metadata": {
        "id": "YTH9SzdCoyVV"
      },
      "execution_count": 5,
      "outputs": []
    },
    {
      "cell_type": "code",
      "source": [
        "covid_df = pickle.load(open( \"/content/drive/MyDrive/AdvancedML/HW3/covid_df.p\", \"rb\" ) )\n",
        "covid_df"
      ],
      "metadata": {
        "colab": {
          "base_uri": "https://localhost:8080/",
          "height": 641
        },
        "id": "8J5g6S8no2Kc",
        "outputId": "ee83901c-e925-4547-d60c-035799c1beba"
      },
      "execution_count": 7,
      "outputs": [
        {
          "output_type": "execute_result",
          "data": {
            "text/plain": [
              "                                                   title  cord_uid  \\\n",
              "0      Blockchain-based governance models for COVID-1...  ppfxi5id   \n",
              "1      On intelligent agent-based simulation of COVID...  uyf9ds7s   \n",
              "2      Concern with COVID-19 pandemic threat and atti...  d0s0f0t1   \n",
              "3      An antifragile strategy for Rome post-Covid mo...  ct7nc16b   \n",
              "4      COVID-19 Time Series Forecasting – Twenty Days...  bs206r15   \n",
              "...                                                  ...       ...   \n",
              "19995  Patient and Provider Experience With Cystic Fi...  l1y1ezfo   \n",
              "19996  Association between voriconazole exposure and ...  lccgk110   \n",
              "19997  Network Pharmacology-Based Analysis of Pogoste...  8ehcnyp5   \n",
              "19998  A Novel Approach to the Viability Determinatio...  htzqgwp6   \n",
              "19999  A Herbal Mixture Formula of OCD20015-V009 Prop...  p0ztyrb3   \n",
              "\n",
              "                                                abstract  \\\n",
              "0      This paper analyses the requirements of a bloc...   \n",
              "1      COVID-19 has impacted all areas of human activ...   \n",
              "2      Tightening social norms is thought to be adapt...   \n",
              "3      We are aware that we will have to live with CO...   \n",
              "4      The new Coronavirus, responsible for the COVID...   \n",
              "...                                                  ...   \n",
              "19995  In response to the novel coronavirus (COVID-19...   \n",
              "19996  Therapeutic drug monitoring (TDM) is essential...   \n",
              "19997  Nonalcoholic fatty liver disease (NAFLD) is th...   \n",
              "19998  Mycobacterium avium subsp. paratuberculosis (M...   \n",
              "19999  OCD20015-V009 is an herbal mix of water-extrac...   \n",
              "\n",
              "                                                    body  \\\n",
              "0      Within the existing literature, papers both ad...   \n",
              "1      Over the past decades, significant changes hav...   \n",
              "2      Tightening social norms is thought to be adapt...   \n",
              "3      Since exactly one year, COVID has changed our ...   \n",
              "4      One of the most issues addressed in 2020 and 2...   \n",
              "...                                                  ...   \n",
              "19995  On March 11, 2020 the novel coronavirus diseas...   \n",
              "19996  Therapeutic drug monitoring (TDM) is essential...   \n",
              "19997  Nonalcoholic fatty liver disease (NAFLD) is a ...   \n",
              "19998  Mycobacterium avium subsp. paratuberculosis (M...   \n",
              "19999  The genome of the influenza A virus (IAV) cont...   \n",
              "\n",
              "                                          processed_body  \\\n",
              "0      Within existing literature , papers advocate c...   \n",
              "1      Over past decades , significant changes occurr...   \n",
              "2      Tightening social norms thought adaptive deali...   \n",
              "3      Since exactly one year , COVID changed way liv...   \n",
              "4      One issues addressed 2020 2021 prevention cont...   \n",
              "...                                                  ...   \n",
              "19995  On March 11 , 2020 novel coronavirus disease (...   \n",
              "19996  Therapeutic drug monitoring ( TDM ) essential ...   \n",
              "19997  Nonalcoholic fatty liver disease ( NAFLD ) cru...   \n",
              "19998  Mycobacterium avium subsp . paratuberculosis (...   \n",
              "19999  The genome influenza A virus ( IAV ) contains ...   \n",
              "\n",
              "                                      processed_abstract  \n",
              "0      This paper analyses requirements blockchain-ba...  \n",
              "1      COVID-19 impacted areas human activity around ...  \n",
              "2      Tightening social norms thought adaptive deali...  \n",
              "3      We aware live COVID-19 least vaccination minim...  \n",
              "4      The new Coronavirus , responsible COVID-19 dis...  \n",
              "...                                                  ...  \n",
              "19995  In response novel coronavirus ( COVID-19 ) pan...  \n",
              "19996  Therapeutic drug monitoring ( TDM ) essential ...  \n",
              "19997  Nonalcoholic fatty liver disease ( NAFLD ) com...  \n",
              "19998  Mycobacterium avium subsp . paratuberculosis (...  \n",
              "19999  OCD20015-V009 herbal mix water-extracted Ginse...  \n",
              "\n",
              "[20000 rows x 6 columns]"
            ],
            "text/html": [
              "\n",
              "  <div id=\"df-30452676-647e-4c3d-9b86-401af0da5bbb\">\n",
              "    <div class=\"colab-df-container\">\n",
              "      <div>\n",
              "<style scoped>\n",
              "    .dataframe tbody tr th:only-of-type {\n",
              "        vertical-align: middle;\n",
              "    }\n",
              "\n",
              "    .dataframe tbody tr th {\n",
              "        vertical-align: top;\n",
              "    }\n",
              "\n",
              "    .dataframe thead th {\n",
              "        text-align: right;\n",
              "    }\n",
              "</style>\n",
              "<table border=\"1\" class=\"dataframe\">\n",
              "  <thead>\n",
              "    <tr style=\"text-align: right;\">\n",
              "      <th></th>\n",
              "      <th>title</th>\n",
              "      <th>cord_uid</th>\n",
              "      <th>abstract</th>\n",
              "      <th>body</th>\n",
              "      <th>processed_body</th>\n",
              "      <th>processed_abstract</th>\n",
              "    </tr>\n",
              "  </thead>\n",
              "  <tbody>\n",
              "    <tr>\n",
              "      <th>0</th>\n",
              "      <td>Blockchain-based governance models for COVID-1...</td>\n",
              "      <td>ppfxi5id</td>\n",
              "      <td>This paper analyses the requirements of a bloc...</td>\n",
              "      <td>Within the existing literature, papers both ad...</td>\n",
              "      <td>Within existing literature , papers advocate c...</td>\n",
              "      <td>This paper analyses requirements blockchain-ba...</td>\n",
              "    </tr>\n",
              "    <tr>\n",
              "      <th>1</th>\n",
              "      <td>On intelligent agent-based simulation of COVID...</td>\n",
              "      <td>uyf9ds7s</td>\n",
              "      <td>COVID-19 has impacted all areas of human activ...</td>\n",
              "      <td>Over the past decades, significant changes hav...</td>\n",
              "      <td>Over past decades , significant changes occurr...</td>\n",
              "      <td>COVID-19 impacted areas human activity around ...</td>\n",
              "    </tr>\n",
              "    <tr>\n",
              "      <th>2</th>\n",
              "      <td>Concern with COVID-19 pandemic threat and atti...</td>\n",
              "      <td>d0s0f0t1</td>\n",
              "      <td>Tightening social norms is thought to be adapt...</td>\n",
              "      <td>Tightening social norms is thought to be adapt...</td>\n",
              "      <td>Tightening social norms thought adaptive deali...</td>\n",
              "      <td>Tightening social norms thought adaptive deali...</td>\n",
              "    </tr>\n",
              "    <tr>\n",
              "      <th>3</th>\n",
              "      <td>An antifragile strategy for Rome post-Covid mo...</td>\n",
              "      <td>ct7nc16b</td>\n",
              "      <td>We are aware that we will have to live with CO...</td>\n",
              "      <td>Since exactly one year, COVID has changed our ...</td>\n",
              "      <td>Since exactly one year , COVID changed way liv...</td>\n",
              "      <td>We aware live COVID-19 least vaccination minim...</td>\n",
              "    </tr>\n",
              "    <tr>\n",
              "      <th>4</th>\n",
              "      <td>COVID-19 Time Series Forecasting – Twenty Days...</td>\n",
              "      <td>bs206r15</td>\n",
              "      <td>The new Coronavirus, responsible for the COVID...</td>\n",
              "      <td>One of the most issues addressed in 2020 and 2...</td>\n",
              "      <td>One issues addressed 2020 2021 prevention cont...</td>\n",
              "      <td>The new Coronavirus , responsible COVID-19 dis...</td>\n",
              "    </tr>\n",
              "    <tr>\n",
              "      <th>...</th>\n",
              "      <td>...</td>\n",
              "      <td>...</td>\n",
              "      <td>...</td>\n",
              "      <td>...</td>\n",
              "      <td>...</td>\n",
              "      <td>...</td>\n",
              "    </tr>\n",
              "    <tr>\n",
              "      <th>19995</th>\n",
              "      <td>Patient and Provider Experience With Cystic Fi...</td>\n",
              "      <td>l1y1ezfo</td>\n",
              "      <td>In response to the novel coronavirus (COVID-19...</td>\n",
              "      <td>On March 11, 2020 the novel coronavirus diseas...</td>\n",
              "      <td>On March 11 , 2020 novel coronavirus disease (...</td>\n",
              "      <td>In response novel coronavirus ( COVID-19 ) pan...</td>\n",
              "    </tr>\n",
              "    <tr>\n",
              "      <th>19996</th>\n",
              "      <td>Association between voriconazole exposure and ...</td>\n",
              "      <td>lccgk110</td>\n",
              "      <td>Therapeutic drug monitoring (TDM) is essential...</td>\n",
              "      <td>Therapeutic drug monitoring (TDM) is essential...</td>\n",
              "      <td>Therapeutic drug monitoring ( TDM ) essential ...</td>\n",
              "      <td>Therapeutic drug monitoring ( TDM ) essential ...</td>\n",
              "    </tr>\n",
              "    <tr>\n",
              "      <th>19997</th>\n",
              "      <td>Network Pharmacology-Based Analysis of Pogoste...</td>\n",
              "      <td>8ehcnyp5</td>\n",
              "      <td>Nonalcoholic fatty liver disease (NAFLD) is th...</td>\n",
              "      <td>Nonalcoholic fatty liver disease (NAFLD) is a ...</td>\n",
              "      <td>Nonalcoholic fatty liver disease ( NAFLD ) cru...</td>\n",
              "      <td>Nonalcoholic fatty liver disease ( NAFLD ) com...</td>\n",
              "    </tr>\n",
              "    <tr>\n",
              "      <th>19998</th>\n",
              "      <td>A Novel Approach to the Viability Determinatio...</td>\n",
              "      <td>htzqgwp6</td>\n",
              "      <td>Mycobacterium avium subsp. paratuberculosis (M...</td>\n",
              "      <td>Mycobacterium avium subsp. paratuberculosis (M...</td>\n",
              "      <td>Mycobacterium avium subsp . paratuberculosis (...</td>\n",
              "      <td>Mycobacterium avium subsp . paratuberculosis (...</td>\n",
              "    </tr>\n",
              "    <tr>\n",
              "      <th>19999</th>\n",
              "      <td>A Herbal Mixture Formula of OCD20015-V009 Prop...</td>\n",
              "      <td>p0ztyrb3</td>\n",
              "      <td>OCD20015-V009 is an herbal mix of water-extrac...</td>\n",
              "      <td>The genome of the influenza A virus (IAV) cont...</td>\n",
              "      <td>The genome influenza A virus ( IAV ) contains ...</td>\n",
              "      <td>OCD20015-V009 herbal mix water-extracted Ginse...</td>\n",
              "    </tr>\n",
              "  </tbody>\n",
              "</table>\n",
              "<p>20000 rows × 6 columns</p>\n",
              "</div>\n",
              "      <button class=\"colab-df-convert\" onclick=\"convertToInteractive('df-30452676-647e-4c3d-9b86-401af0da5bbb')\"\n",
              "              title=\"Convert this dataframe to an interactive table.\"\n",
              "              style=\"display:none;\">\n",
              "        \n",
              "  <svg xmlns=\"http://www.w3.org/2000/svg\" height=\"24px\"viewBox=\"0 0 24 24\"\n",
              "       width=\"24px\">\n",
              "    <path d=\"M0 0h24v24H0V0z\" fill=\"none\"/>\n",
              "    <path d=\"M18.56 5.44l.94 2.06.94-2.06 2.06-.94-2.06-.94-.94-2.06-.94 2.06-2.06.94zm-11 1L8.5 8.5l.94-2.06 2.06-.94-2.06-.94L8.5 2.5l-.94 2.06-2.06.94zm10 10l.94 2.06.94-2.06 2.06-.94-2.06-.94-.94-2.06-.94 2.06-2.06.94z\"/><path d=\"M17.41 7.96l-1.37-1.37c-.4-.4-.92-.59-1.43-.59-.52 0-1.04.2-1.43.59L10.3 9.45l-7.72 7.72c-.78.78-.78 2.05 0 2.83L4 21.41c.39.39.9.59 1.41.59.51 0 1.02-.2 1.41-.59l7.78-7.78 2.81-2.81c.8-.78.8-2.07 0-2.86zM5.41 20L4 18.59l7.72-7.72 1.47 1.35L5.41 20z\"/>\n",
              "  </svg>\n",
              "      </button>\n",
              "      \n",
              "  <style>\n",
              "    .colab-df-container {\n",
              "      display:flex;\n",
              "      flex-wrap:wrap;\n",
              "      gap: 12px;\n",
              "    }\n",
              "\n",
              "    .colab-df-convert {\n",
              "      background-color: #E8F0FE;\n",
              "      border: none;\n",
              "      border-radius: 50%;\n",
              "      cursor: pointer;\n",
              "      display: none;\n",
              "      fill: #1967D2;\n",
              "      height: 32px;\n",
              "      padding: 0 0 0 0;\n",
              "      width: 32px;\n",
              "    }\n",
              "\n",
              "    .colab-df-convert:hover {\n",
              "      background-color: #E2EBFA;\n",
              "      box-shadow: 0px 1px 2px rgba(60, 64, 67, 0.3), 0px 1px 3px 1px rgba(60, 64, 67, 0.15);\n",
              "      fill: #174EA6;\n",
              "    }\n",
              "\n",
              "    [theme=dark] .colab-df-convert {\n",
              "      background-color: #3B4455;\n",
              "      fill: #D2E3FC;\n",
              "    }\n",
              "\n",
              "    [theme=dark] .colab-df-convert:hover {\n",
              "      background-color: #434B5C;\n",
              "      box-shadow: 0px 1px 3px 1px rgba(0, 0, 0, 0.15);\n",
              "      filter: drop-shadow(0px 1px 2px rgba(0, 0, 0, 0.3));\n",
              "      fill: #FFFFFF;\n",
              "    }\n",
              "  </style>\n",
              "\n",
              "      <script>\n",
              "        const buttonEl =\n",
              "          document.querySelector('#df-30452676-647e-4c3d-9b86-401af0da5bbb button.colab-df-convert');\n",
              "        buttonEl.style.display =\n",
              "          google.colab.kernel.accessAllowed ? 'block' : 'none';\n",
              "\n",
              "        async function convertToInteractive(key) {\n",
              "          const element = document.querySelector('#df-30452676-647e-4c3d-9b86-401af0da5bbb');\n",
              "          const dataTable =\n",
              "            await google.colab.kernel.invokeFunction('convertToInteractive',\n",
              "                                                     [key], {});\n",
              "          if (!dataTable) return;\n",
              "\n",
              "          const docLinkHtml = 'Like what you see? Visit the ' +\n",
              "            '<a target=\"_blank\" href=https://colab.research.google.com/notebooks/data_table.ipynb>data table notebook</a>'\n",
              "            + ' to learn more about interactive tables.';\n",
              "          element.innerHTML = '';\n",
              "          dataTable['output_type'] = 'display_data';\n",
              "          await google.colab.output.renderOutput(dataTable, element);\n",
              "          const docLink = document.createElement('div');\n",
              "          docLink.innerHTML = docLinkHtml;\n",
              "          element.appendChild(docLink);\n",
              "        }\n",
              "      </script>\n",
              "    </div>\n",
              "  </div>\n",
              "  "
            ]
          },
          "metadata": {},
          "execution_count": 7
        }
      ]
    },
    {
      "cell_type": "markdown",
      "source": [
        "note that for large text we'll use the faster DAN architecture used within https://tfhub.dev/google/universal-sentence-encoder/4"
      ],
      "metadata": {
        "id": "bH0f_crkrmyq"
      }
    },
    {
      "cell_type": "code",
      "source": [
        "sentence_util_body = SentenceUtil(covid_df.processed_body, module_url=\"https://tfhub.dev/google/universal-sentence-encoder/4\")"
      ],
      "metadata": {
        "colab": {
          "base_uri": "https://localhost:8080/"
        },
        "id": "lNtq0XGhp2_U",
        "outputId": "38c237a2-05e8-4030-82f9-5a8266e9d179"
      },
      "execution_count": 8,
      "outputs": [
        {
          "output_type": "stream",
          "name": "stdout",
          "text": [
            "module https://tfhub.dev/google/universal-sentence-encoder/4 loaded\n"
          ]
        },
        {
          "output_type": "stream",
          "name": "stderr",
          "text": [
            "100%|██████████| 19999/19999 [07:28<00:00, 44.64it/s]\n"
          ]
        }
      ]
    },
    {
      "cell_type": "markdown",
      "source": [
        "we'll select the first index for comparison"
      ],
      "metadata": {
        "id": "0af6zABYvM7c"
      }
    },
    {
      "cell_type": "code",
      "source": [
        "covid_df.iloc[0].title"
      ],
      "metadata": {
        "colab": {
          "base_uri": "https://localhost:8080/",
          "height": 35
        },
        "id": "zWItHkpetpLJ",
        "outputId": "7de2fca6-6b47-4ee1-a9cb-2835bb1f4aaa"
      },
      "execution_count": 11,
      "outputs": [
        {
          "output_type": "execute_result",
          "data": {
            "text/plain": [
              "'Blockchain-based governance models for COVID-19 digital health certificates: A legal, technical, ethical and security requirements analysis'"
            ],
            "application/vnd.google.colaboratory.intrinsic+json": {
              "type": "string"
            }
          },
          "metadata": {},
          "execution_count": 11
        }
      ]
    },
    {
      "cell_type": "code",
      "source": [
        "indx, similarities = sentence_util_body.get_k_most_similar(compared_index=0, k=4)\n",
        "indx, similarities"
      ],
      "metadata": {
        "colab": {
          "base_uri": "https://localhost:8080/"
        },
        "id": "RyIELWIetZqu",
        "outputId": "abcdfa98-60aa-4b66-8cfe-4b5eb9136569"
      },
      "execution_count": 22,
      "outputs": [
        {
          "output_type": "execute_result",
          "data": {
            "text/plain": [
              "(array([11522,  3037,  2257,  9617]),\n",
              " array([0.78430235, 0.7703583 , 0.7508329 , 0.748494  ], dtype=float32))"
            ]
          },
          "metadata": {},
          "execution_count": 22
        }
      ]
    },
    {
      "cell_type": "code",
      "source": [
        "pd.set_option('display.max_colwidth', None)\n",
        "covid_df.iloc[indx].title"
      ],
      "metadata": {
        "colab": {
          "base_uri": "https://localhost:8080/"
        },
        "id": "c7Xk_jdDuEaG",
        "outputId": "c844a83d-f4ce-4ca3-ca7e-0efa1008f5ec"
      },
      "execution_count": 23,
      "outputs": [
        {
          "output_type": "execute_result",
          "data": {
            "text/plain": [
              "11522                                                             Blockchain-based Platform for Secure Sharing and Validation of Vaccination Certificates\n",
              "3037                                                                       A Systematic Literature Review of Blockchain Technology Adoption in Bangladesh\n",
              "2257     Perceived Security Risk Based on Moderating Factors for Blockchain Technology Applications in Cloud Storage to Achieve Secure Healthcare Systems\n",
              "9617                                                                         BEAT: Blockchain-Enabled Accountable Infrastructure Sharing in 6G and Beyond\n",
              "Name: title, dtype: object"
            ]
          },
          "metadata": {},
          "execution_count": 23
        }
      ]
    },
    {
      "cell_type": "markdown",
      "source": [
        "we can see that according to the title - all of them are related to Blockchain."
      ],
      "metadata": {
        "id": "I-A5FaKlvdKm"
      }
    },
    {
      "cell_type": "markdown",
      "source": [
        "lets try again using the abstract"
      ],
      "metadata": {
        "id": "OBnRRRzuv0ET"
      }
    },
    {
      "cell_type": "code",
      "source": [
        "sentence_util_abstract = SentenceUtil(covid_df.processed_abstract, module_url=\"https://tfhub.dev/google/universal-sentence-encoder/4\")"
      ],
      "metadata": {
        "colab": {
          "base_uri": "https://localhost:8080/"
        },
        "id": "t4M_D6qgv8vL",
        "outputId": "bc34dbe9-e015-4764-df54-325d6d882081"
      },
      "execution_count": 24,
      "outputs": [
        {
          "output_type": "stream",
          "name": "stdout",
          "text": [
            "module https://tfhub.dev/google/universal-sentence-encoder/4 loaded\n"
          ]
        },
        {
          "output_type": "stream",
          "name": "stderr",
          "text": [
            "100%|██████████| 19999/19999 [03:35<00:00, 92.72it/s]\n"
          ]
        }
      ]
    },
    {
      "cell_type": "code",
      "source": [
        "indx, similarities = sentence_util_abstract.get_k_most_similar(compared_index=0, k=4)\n",
        "indx, similarities"
      ],
      "metadata": {
        "colab": {
          "base_uri": "https://localhost:8080/"
        },
        "id": "Ir9br9vyw-yw",
        "outputId": "ba5a9345-5d65-4b19-9616-7090cb02c932"
      },
      "execution_count": 25,
      "outputs": [
        {
          "output_type": "execute_result",
          "data": {
            "text/plain": [
              "(array([ 6378,  4301, 11838,  4472]),\n",
              " array([0.65570027, 0.6114664 , 0.61127365, 0.5858599 ], dtype=float32))"
            ]
          },
          "metadata": {},
          "execution_count": 25
        }
      ]
    },
    {
      "cell_type": "code",
      "source": [
        "covid_df.iloc[indx].title"
      ],
      "metadata": {
        "colab": {
          "base_uri": "https://localhost:8080/"
        },
        "id": "o1VKGrsWxJec",
        "outputId": "3ca61f55-9198-4ef3-8310-ca8fe1c7ef14"
      },
      "execution_count": 26,
      "outputs": [
        {
          "output_type": "execute_result",
          "data": {
            "text/plain": [
              "6378                 Blockchain Matters—Lex Cryptographia and the Displacement of Legal Symbolics and Imaginaries\n",
              "4301                                                         Cybersecurity, Data Privacy and Blockchain: A Review\n",
              "11838                             Know Your Customer: Balancing Innovation and Regulation for Financial Inclusion\n",
              "4472     Research contributions and challenges in DLT-based cryptocurrency regulation: a systematic mapping study\n",
              "Name: title, dtype: object"
            ]
          },
          "metadata": {},
          "execution_count": 26
        }
      ]
    },
    {
      "cell_type": "markdown",
      "source": [
        "seems like it works, all of them(but index 11838) refer to Blocklchain or cryptocurrency. lets take a deeper look to the unusual result:"
      ],
      "metadata": {
        "id": "5ggf76AWxQnJ"
      }
    },
    {
      "cell_type": "code",
      "source": [
        "covid_df.iloc[11838].processed_abstract"
      ],
      "metadata": {
        "colab": {
          "base_uri": "https://localhost:8080/",
          "height": 105
        },
        "id": "cOAVgBs-xnsX",
        "outputId": "d6186897-92e7-47e8-aec2-5a478e4a80fe"
      },
      "execution_count": 27,
      "outputs": [
        {
          "output_type": "execute_result",
          "data": {
            "text/plain": [
              "\"Financial inclusion depends providing adjusted services citizens disclosed vulnerabilities . At time , financial industry needs adhere strict regulatory framework , often conflict desire inclusive , adaptive , privacy-preserving services . In paper study tension impacts deployment privacy-sensitive technologies aimed financial inclusion . We conduct qualitative study banking experts understand perspective service development financial inclusion . We build demonstrate prototype solution based open source decentralized identifiers verifiable credentials software report feedback banking experts system . The technology promising thanks selective disclosure vulnerabilities full control individual . This support GDPR requirement , time , clear tension introducing technologies fulfilling regulatory requirements , particularly respect `Know Your Customer . ' We consider policy implications stemming tensions provide guidelines design related technologies .\""
            ],
            "application/vnd.google.colaboratory.intrinsic+json": {
              "type": "string"
            }
          },
          "metadata": {},
          "execution_count": 27
        }
      ]
    },
    {
      "cell_type": "markdown",
      "source": [
        "it refers to decentralized identifiers verifiable credentials, which seem to be close to blockchain technology."
      ],
      "metadata": {
        "id": "P2XQVJr8yBJW"
      }
    }
  ]
}