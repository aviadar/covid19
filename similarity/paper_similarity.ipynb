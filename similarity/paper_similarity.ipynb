{
  "nbformat": 4,
  "nbformat_minor": 0,
  "metadata": {
    "colab": {
      "name": "paper_similarity.ipynb",
      "provenance": [],
      "machine_shape": "hm"
    },
    "kernelspec": {
      "name": "python3",
      "display_name": "Python 3"
    },
    "language_info": {
      "name": "python"
    },
    "accelerator": "GPU"
  },
  "cells": [
    {
      "cell_type": "code",
      "execution_count": 1,
      "metadata": {
        "colab": {
          "base_uri": "https://localhost:8080/"
        },
        "id": "nyAnWtO_oqKf",
        "outputId": "a2370a89-1215-411a-967c-0b82401c9c16"
      },
      "outputs": [
        {
          "output_type": "stream",
          "name": "stdout",
          "text": [
            "Mounted at /content/drive\n"
          ]
        }
      ],
      "source": [
        "import sys\n",
        "import pickle\n",
        "from google.colab import drive\n",
        "import pandas as pd\n",
        "drive.mount('/content/drive')"
      ]
    },
    {
      "cell_type": "code",
      "source": [
        "!git clone https://github.com/aviadar/covid19 proj"
      ],
      "metadata": {
        "colab": {
          "base_uri": "https://localhost:8080/"
        },
        "id": "vUCR-USVowzG",
        "outputId": "49c47fd1-0526-441c-bd0e-e2069bd919fd"
      },
      "execution_count": 2,
      "outputs": [
        {
          "output_type": "stream",
          "name": "stdout",
          "text": [
            "Cloning into 'proj'...\n",
            "remote: Enumerating objects: 153, done.\u001b[K\n",
            "remote: Counting objects: 100% (153/153), done.\u001b[K\n",
            "remote: Compressing objects: 100% (106/106), done.\u001b[K\n",
            "remote: Total 153 (delta 85), reused 111 (delta 43), pack-reused 0\u001b[K\n",
            "Receiving objects: 100% (153/153), 1.51 MiB | 7.01 MiB/s, done.\n",
            "Resolving deltas: 100% (85/85), done.\n"
          ]
        }
      ]
    },
    {
      "cell_type": "code",
      "source": [
        "sys.path.insert(0,'/content/proj')\n",
        "\n",
        "from utilities.sentence_utility import SentenceUtil"
      ],
      "metadata": {
        "id": "YTH9SzdCoyVV"
      },
      "execution_count": 3,
      "outputs": []
    },
    {
      "cell_type": "code",
      "source": [
        "covid_df = pickle.load(open( \"/content/drive/MyDrive/AdvancedML/HW3/covid_df.p\", \"rb\" ) )\n",
        "covid_df"
      ],
      "metadata": {
        "colab": {
          "base_uri": "https://localhost:8080/",
          "height": 867
        },
        "id": "8J5g6S8no2Kc",
        "outputId": "5d6442a0-6b2b-40f9-887b-2bd5eee53823"
      },
      "execution_count": 4,
      "outputs": [
        {
          "output_type": "execute_result",
          "data": {
            "text/plain": [
              "                                                   title  cord_uid  \\\n",
              "0      Blockchain-based governance models for COVID-1...  ppfxi5id   \n",
              "1      On intelligent agent-based simulation of COVID...  uyf9ds7s   \n",
              "2      Concern with COVID-19 pandemic threat and atti...  d0s0f0t1   \n",
              "3      An antifragile strategy for Rome post-Covid mo...  ct7nc16b   \n",
              "4      COVID-19 Time Series Forecasting – Twenty Days...  bs206r15   \n",
              "...                                                  ...       ...   \n",
              "19995  Patient and Provider Experience With Cystic Fi...  l1y1ezfo   \n",
              "19996  Association between voriconazole exposure and ...  lccgk110   \n",
              "19997  Network Pharmacology-Based Analysis of Pogoste...  8ehcnyp5   \n",
              "19998  A Novel Approach to the Viability Determinatio...  htzqgwp6   \n",
              "19999  A Herbal Mixture Formula of OCD20015-V009 Prop...  p0ztyrb3   \n",
              "\n",
              "                                                abstract  \\\n",
              "0      This paper analyses the requirements of a bloc...   \n",
              "1      COVID-19 has impacted all areas of human activ...   \n",
              "2      Tightening social norms is thought to be adapt...   \n",
              "3      We are aware that we will have to live with CO...   \n",
              "4      The new Coronavirus, responsible for the COVID...   \n",
              "...                                                  ...   \n",
              "19995  In response to the novel coronavirus (COVID-19...   \n",
              "19996  Therapeutic drug monitoring (TDM) is essential...   \n",
              "19997  Nonalcoholic fatty liver disease (NAFLD) is th...   \n",
              "19998  Mycobacterium avium subsp. paratuberculosis (M...   \n",
              "19999  OCD20015-V009 is an herbal mix of water-extrac...   \n",
              "\n",
              "                                                    body  \\\n",
              "0      Within the existing literature, papers both ad...   \n",
              "1      Over the past decades, significant changes hav...   \n",
              "2      Tightening social norms is thought to be adapt...   \n",
              "3      Since exactly one year, COVID has changed our ...   \n",
              "4      One of the most issues addressed in 2020 and 2...   \n",
              "...                                                  ...   \n",
              "19995  On March 11, 2020 the novel coronavirus diseas...   \n",
              "19996  Therapeutic drug monitoring (TDM) is essential...   \n",
              "19997  Nonalcoholic fatty liver disease (NAFLD) is a ...   \n",
              "19998  Mycobacterium avium subsp. paratuberculosis (M...   \n",
              "19999  The genome of the influenza A virus (IAV) cont...   \n",
              "\n",
              "                                          processed_body  \\\n",
              "0      Within existing literature , papers advocate c...   \n",
              "1      Over past decades , significant changes occurr...   \n",
              "2      Tightening social norms thought adaptive deali...   \n",
              "3      Since exactly one year , COVID changed way liv...   \n",
              "4      One issues addressed 2020 2021 prevention cont...   \n",
              "...                                                  ...   \n",
              "19995  On March 11 , 2020 novel coronavirus disease (...   \n",
              "19996  Therapeutic drug monitoring ( TDM ) essential ...   \n",
              "19997  Nonalcoholic fatty liver disease ( NAFLD ) cru...   \n",
              "19998  Mycobacterium avium subsp . paratuberculosis (...   \n",
              "19999  The genome influenza A virus ( IAV ) contains ...   \n",
              "\n",
              "                                      processed_abstract  \n",
              "0      This paper analyses requirements blockchain-ba...  \n",
              "1      COVID-19 impacted areas human activity around ...  \n",
              "2      Tightening social norms thought adaptive deali...  \n",
              "3      We aware live COVID-19 least vaccination minim...  \n",
              "4      The new Coronavirus , responsible COVID-19 dis...  \n",
              "...                                                  ...  \n",
              "19995  In response novel coronavirus ( COVID-19 ) pan...  \n",
              "19996  Therapeutic drug monitoring ( TDM ) essential ...  \n",
              "19997  Nonalcoholic fatty liver disease ( NAFLD ) com...  \n",
              "19998  Mycobacterium avium subsp . paratuberculosis (...  \n",
              "19999  OCD20015-V009 herbal mix water-extracted Ginse...  \n",
              "\n",
              "[20000 rows x 6 columns]"
            ],
            "text/html": [
              "\n",
              "  <div id=\"df-ec8190d7-ae8d-4005-b1aa-fe5c380293af\">\n",
              "    <div class=\"colab-df-container\">\n",
              "      <div>\n",
              "<style scoped>\n",
              "    .dataframe tbody tr th:only-of-type {\n",
              "        vertical-align: middle;\n",
              "    }\n",
              "\n",
              "    .dataframe tbody tr th {\n",
              "        vertical-align: top;\n",
              "    }\n",
              "\n",
              "    .dataframe thead th {\n",
              "        text-align: right;\n",
              "    }\n",
              "</style>\n",
              "<table border=\"1\" class=\"dataframe\">\n",
              "  <thead>\n",
              "    <tr style=\"text-align: right;\">\n",
              "      <th></th>\n",
              "      <th>title</th>\n",
              "      <th>cord_uid</th>\n",
              "      <th>abstract</th>\n",
              "      <th>body</th>\n",
              "      <th>processed_body</th>\n",
              "      <th>processed_abstract</th>\n",
              "    </tr>\n",
              "  </thead>\n",
              "  <tbody>\n",
              "    <tr>\n",
              "      <th>0</th>\n",
              "      <td>Blockchain-based governance models for COVID-1...</td>\n",
              "      <td>ppfxi5id</td>\n",
              "      <td>This paper analyses the requirements of a bloc...</td>\n",
              "      <td>Within the existing literature, papers both ad...</td>\n",
              "      <td>Within existing literature , papers advocate c...</td>\n",
              "      <td>This paper analyses requirements blockchain-ba...</td>\n",
              "    </tr>\n",
              "    <tr>\n",
              "      <th>1</th>\n",
              "      <td>On intelligent agent-based simulation of COVID...</td>\n",
              "      <td>uyf9ds7s</td>\n",
              "      <td>COVID-19 has impacted all areas of human activ...</td>\n",
              "      <td>Over the past decades, significant changes hav...</td>\n",
              "      <td>Over past decades , significant changes occurr...</td>\n",
              "      <td>COVID-19 impacted areas human activity around ...</td>\n",
              "    </tr>\n",
              "    <tr>\n",
              "      <th>2</th>\n",
              "      <td>Concern with COVID-19 pandemic threat and atti...</td>\n",
              "      <td>d0s0f0t1</td>\n",
              "      <td>Tightening social norms is thought to be adapt...</td>\n",
              "      <td>Tightening social norms is thought to be adapt...</td>\n",
              "      <td>Tightening social norms thought adaptive deali...</td>\n",
              "      <td>Tightening social norms thought adaptive deali...</td>\n",
              "    </tr>\n",
              "    <tr>\n",
              "      <th>3</th>\n",
              "      <td>An antifragile strategy for Rome post-Covid mo...</td>\n",
              "      <td>ct7nc16b</td>\n",
              "      <td>We are aware that we will have to live with CO...</td>\n",
              "      <td>Since exactly one year, COVID has changed our ...</td>\n",
              "      <td>Since exactly one year , COVID changed way liv...</td>\n",
              "      <td>We aware live COVID-19 least vaccination minim...</td>\n",
              "    </tr>\n",
              "    <tr>\n",
              "      <th>4</th>\n",
              "      <td>COVID-19 Time Series Forecasting – Twenty Days...</td>\n",
              "      <td>bs206r15</td>\n",
              "      <td>The new Coronavirus, responsible for the COVID...</td>\n",
              "      <td>One of the most issues addressed in 2020 and 2...</td>\n",
              "      <td>One issues addressed 2020 2021 prevention cont...</td>\n",
              "      <td>The new Coronavirus , responsible COVID-19 dis...</td>\n",
              "    </tr>\n",
              "    <tr>\n",
              "      <th>...</th>\n",
              "      <td>...</td>\n",
              "      <td>...</td>\n",
              "      <td>...</td>\n",
              "      <td>...</td>\n",
              "      <td>...</td>\n",
              "      <td>...</td>\n",
              "    </tr>\n",
              "    <tr>\n",
              "      <th>19995</th>\n",
              "      <td>Patient and Provider Experience With Cystic Fi...</td>\n",
              "      <td>l1y1ezfo</td>\n",
              "      <td>In response to the novel coronavirus (COVID-19...</td>\n",
              "      <td>On March 11, 2020 the novel coronavirus diseas...</td>\n",
              "      <td>On March 11 , 2020 novel coronavirus disease (...</td>\n",
              "      <td>In response novel coronavirus ( COVID-19 ) pan...</td>\n",
              "    </tr>\n",
              "    <tr>\n",
              "      <th>19996</th>\n",
              "      <td>Association between voriconazole exposure and ...</td>\n",
              "      <td>lccgk110</td>\n",
              "      <td>Therapeutic drug monitoring (TDM) is essential...</td>\n",
              "      <td>Therapeutic drug monitoring (TDM) is essential...</td>\n",
              "      <td>Therapeutic drug monitoring ( TDM ) essential ...</td>\n",
              "      <td>Therapeutic drug monitoring ( TDM ) essential ...</td>\n",
              "    </tr>\n",
              "    <tr>\n",
              "      <th>19997</th>\n",
              "      <td>Network Pharmacology-Based Analysis of Pogoste...</td>\n",
              "      <td>8ehcnyp5</td>\n",
              "      <td>Nonalcoholic fatty liver disease (NAFLD) is th...</td>\n",
              "      <td>Nonalcoholic fatty liver disease (NAFLD) is a ...</td>\n",
              "      <td>Nonalcoholic fatty liver disease ( NAFLD ) cru...</td>\n",
              "      <td>Nonalcoholic fatty liver disease ( NAFLD ) com...</td>\n",
              "    </tr>\n",
              "    <tr>\n",
              "      <th>19998</th>\n",
              "      <td>A Novel Approach to the Viability Determinatio...</td>\n",
              "      <td>htzqgwp6</td>\n",
              "      <td>Mycobacterium avium subsp. paratuberculosis (M...</td>\n",
              "      <td>Mycobacterium avium subsp. paratuberculosis (M...</td>\n",
              "      <td>Mycobacterium avium subsp . paratuberculosis (...</td>\n",
              "      <td>Mycobacterium avium subsp . paratuberculosis (...</td>\n",
              "    </tr>\n",
              "    <tr>\n",
              "      <th>19999</th>\n",
              "      <td>A Herbal Mixture Formula of OCD20015-V009 Prop...</td>\n",
              "      <td>p0ztyrb3</td>\n",
              "      <td>OCD20015-V009 is an herbal mix of water-extrac...</td>\n",
              "      <td>The genome of the influenza A virus (IAV) cont...</td>\n",
              "      <td>The genome influenza A virus ( IAV ) contains ...</td>\n",
              "      <td>OCD20015-V009 herbal mix water-extracted Ginse...</td>\n",
              "    </tr>\n",
              "  </tbody>\n",
              "</table>\n",
              "<p>20000 rows × 6 columns</p>\n",
              "</div>\n",
              "      <button class=\"colab-df-convert\" onclick=\"convertToInteractive('df-ec8190d7-ae8d-4005-b1aa-fe5c380293af')\"\n",
              "              title=\"Convert this dataframe to an interactive table.\"\n",
              "              style=\"display:none;\">\n",
              "        \n",
              "  <svg xmlns=\"http://www.w3.org/2000/svg\" height=\"24px\"viewBox=\"0 0 24 24\"\n",
              "       width=\"24px\">\n",
              "    <path d=\"M0 0h24v24H0V0z\" fill=\"none\"/>\n",
              "    <path d=\"M18.56 5.44l.94 2.06.94-2.06 2.06-.94-2.06-.94-.94-2.06-.94 2.06-2.06.94zm-11 1L8.5 8.5l.94-2.06 2.06-.94-2.06-.94L8.5 2.5l-.94 2.06-2.06.94zm10 10l.94 2.06.94-2.06 2.06-.94-2.06-.94-.94-2.06-.94 2.06-2.06.94z\"/><path d=\"M17.41 7.96l-1.37-1.37c-.4-.4-.92-.59-1.43-.59-.52 0-1.04.2-1.43.59L10.3 9.45l-7.72 7.72c-.78.78-.78 2.05 0 2.83L4 21.41c.39.39.9.59 1.41.59.51 0 1.02-.2 1.41-.59l7.78-7.78 2.81-2.81c.8-.78.8-2.07 0-2.86zM5.41 20L4 18.59l7.72-7.72 1.47 1.35L5.41 20z\"/>\n",
              "  </svg>\n",
              "      </button>\n",
              "      \n",
              "  <style>\n",
              "    .colab-df-container {\n",
              "      display:flex;\n",
              "      flex-wrap:wrap;\n",
              "      gap: 12px;\n",
              "    }\n",
              "\n",
              "    .colab-df-convert {\n",
              "      background-color: #E8F0FE;\n",
              "      border: none;\n",
              "      border-radius: 50%;\n",
              "      cursor: pointer;\n",
              "      display: none;\n",
              "      fill: #1967D2;\n",
              "      height: 32px;\n",
              "      padding: 0 0 0 0;\n",
              "      width: 32px;\n",
              "    }\n",
              "\n",
              "    .colab-df-convert:hover {\n",
              "      background-color: #E2EBFA;\n",
              "      box-shadow: 0px 1px 2px rgba(60, 64, 67, 0.3), 0px 1px 3px 1px rgba(60, 64, 67, 0.15);\n",
              "      fill: #174EA6;\n",
              "    }\n",
              "\n",
              "    [theme=dark] .colab-df-convert {\n",
              "      background-color: #3B4455;\n",
              "      fill: #D2E3FC;\n",
              "    }\n",
              "\n",
              "    [theme=dark] .colab-df-convert:hover {\n",
              "      background-color: #434B5C;\n",
              "      box-shadow: 0px 1px 3px 1px rgba(0, 0, 0, 0.15);\n",
              "      filter: drop-shadow(0px 1px 2px rgba(0, 0, 0, 0.3));\n",
              "      fill: #FFFFFF;\n",
              "    }\n",
              "  </style>\n",
              "\n",
              "      <script>\n",
              "        const buttonEl =\n",
              "          document.querySelector('#df-ec8190d7-ae8d-4005-b1aa-fe5c380293af button.colab-df-convert');\n",
              "        buttonEl.style.display =\n",
              "          google.colab.kernel.accessAllowed ? 'block' : 'none';\n",
              "\n",
              "        async function convertToInteractive(key) {\n",
              "          const element = document.querySelector('#df-ec8190d7-ae8d-4005-b1aa-fe5c380293af');\n",
              "          const dataTable =\n",
              "            await google.colab.kernel.invokeFunction('convertToInteractive',\n",
              "                                                     [key], {});\n",
              "          if (!dataTable) return;\n",
              "\n",
              "          const docLinkHtml = 'Like what you see? Visit the ' +\n",
              "            '<a target=\"_blank\" href=https://colab.research.google.com/notebooks/data_table.ipynb>data table notebook</a>'\n",
              "            + ' to learn more about interactive tables.';\n",
              "          element.innerHTML = '';\n",
              "          dataTable['output_type'] = 'display_data';\n",
              "          await google.colab.output.renderOutput(dataTable, element);\n",
              "          const docLink = document.createElement('div');\n",
              "          docLink.innerHTML = docLinkHtml;\n",
              "          element.appendChild(docLink);\n",
              "        }\n",
              "      </script>\n",
              "    </div>\n",
              "  </div>\n",
              "  "
            ]
          },
          "metadata": {},
          "execution_count": 4
        }
      ]
    },
    {
      "cell_type": "markdown",
      "source": [
        "note that for large text we'll use the faster DAN architecture used within https://tfhub.dev/google/universal-sentence-encoder/4"
      ],
      "metadata": {
        "id": "bH0f_crkrmyq"
      }
    },
    {
      "cell_type": "code",
      "source": [
        "sentence_util_body = SentenceUtil(covid_df.processed_body, module_url=\"https://tfhub.dev/google/universal-sentence-encoder/4\")"
      ],
      "metadata": {
        "colab": {
          "base_uri": "https://localhost:8080/"
        },
        "id": "lNtq0XGhp2_U",
        "outputId": "3b687058-71ac-4084-85a4-99c2015521c8"
      },
      "execution_count": 5,
      "outputs": [
        {
          "output_type": "stream",
          "name": "stdout",
          "text": [
            "module https://tfhub.dev/google/universal-sentence-encoder/4 loaded\n"
          ]
        },
        {
          "output_type": "stream",
          "name": "stderr",
          "text": [
            "100%|██████████| 19999/19999 [03:29<00:00, 95.51it/s]\n"
          ]
        }
      ]
    },
    {
      "cell_type": "markdown",
      "source": [
        "we'll select the first index for comparison"
      ],
      "metadata": {
        "id": "0af6zABYvM7c"
      }
    },
    {
      "cell_type": "code",
      "source": [
        "covid_df.iloc[0].title"
      ],
      "metadata": {
        "colab": {
          "base_uri": "https://localhost:8080/",
          "height": 53
        },
        "id": "zWItHkpetpLJ",
        "outputId": "4acd92a0-63f9-4e7a-c639-12717528e9dd"
      },
      "execution_count": 6,
      "outputs": [
        {
          "output_type": "execute_result",
          "data": {
            "text/plain": [
              "'Blockchain-based governance models for COVID-19 digital health certificates: A legal, technical, ethical and security requirements analysis'"
            ],
            "application/vnd.google.colaboratory.intrinsic+json": {
              "type": "string"
            }
          },
          "metadata": {},
          "execution_count": 6
        }
      ]
    },
    {
      "cell_type": "code",
      "source": [
        "indx, similarities = sentence_util_body.get_k_most_similar(compared_index=0, k=4)\n",
        "indx, similarities"
      ],
      "metadata": {
        "colab": {
          "base_uri": "https://localhost:8080/"
        },
        "id": "RyIELWIetZqu",
        "outputId": "8041cfdd-a3c0-4e03-e3fa-f2eb3cfa398a"
      },
      "execution_count": 7,
      "outputs": [
        {
          "output_type": "execute_result",
          "data": {
            "text/plain": [
              "(array([11522,  3037,  2257,  9617]),\n",
              " array([0.7843034, 0.7703585, 0.7508331, 0.7484938], dtype=float32))"
            ]
          },
          "metadata": {},
          "execution_count": 7
        }
      ]
    },
    {
      "cell_type": "code",
      "source": [
        "pd.set_option('display.max_colwidth', None)\n",
        "covid_df.iloc[indx].title"
      ],
      "metadata": {
        "colab": {
          "base_uri": "https://localhost:8080/"
        },
        "id": "c7Xk_jdDuEaG",
        "outputId": "7261ce7e-c2aa-4d3d-fb84-ea8bc193b809"
      },
      "execution_count": 8,
      "outputs": [
        {
          "output_type": "execute_result",
          "data": {
            "text/plain": [
              "11522                                                             Blockchain-based Platform for Secure Sharing and Validation of Vaccination Certificates\n",
              "3037                                                                       A Systematic Literature Review of Blockchain Technology Adoption in Bangladesh\n",
              "2257     Perceived Security Risk Based on Moderating Factors for Blockchain Technology Applications in Cloud Storage to Achieve Secure Healthcare Systems\n",
              "9617                                                                         BEAT: Blockchain-Enabled Accountable Infrastructure Sharing in 6G and Beyond\n",
              "Name: title, dtype: object"
            ]
          },
          "metadata": {},
          "execution_count": 8
        }
      ]
    },
    {
      "cell_type": "markdown",
      "source": [
        "we can see that according to the title - all of them are related to Blockchain."
      ],
      "metadata": {
        "id": "I-A5FaKlvdKm"
      }
    },
    {
      "cell_type": "markdown",
      "source": [
        "lets try again using the abstract"
      ],
      "metadata": {
        "id": "OBnRRRzuv0ET"
      }
    },
    {
      "cell_type": "code",
      "source": [
        "sentence_util_abstract = SentenceUtil(covid_df.processed_abstract, module_url=\"https://tfhub.dev/google/universal-sentence-encoder/4\")"
      ],
      "metadata": {
        "colab": {
          "base_uri": "https://localhost:8080/"
        },
        "id": "t4M_D6qgv8vL",
        "outputId": "77a61cb4-f4ca-4d49-a2c3-81fd297c4a05"
      },
      "execution_count": 9,
      "outputs": [
        {
          "output_type": "stream",
          "name": "stdout",
          "text": [
            "module https://tfhub.dev/google/universal-sentence-encoder/4 loaded\n"
          ]
        },
        {
          "output_type": "stream",
          "name": "stderr",
          "text": [
            "100%|██████████| 19999/19999 [01:53<00:00, 176.03it/s]\n"
          ]
        }
      ]
    },
    {
      "cell_type": "code",
      "source": [
        "indx, similarities = sentence_util_abstract.get_k_most_similar(compared_index=0, k=4)\n",
        "indx, similarities"
      ],
      "metadata": {
        "colab": {
          "base_uri": "https://localhost:8080/"
        },
        "id": "Ir9br9vyw-yw",
        "outputId": "59720ecc-c631-4c48-8d93-94f73d77e0a7"
      },
      "execution_count": 10,
      "outputs": [
        {
          "output_type": "execute_result",
          "data": {
            "text/plain": [
              "(array([ 6378,  4301, 11838,  4472]),\n",
              " array([0.6557002 , 0.6114665 , 0.61127347, 0.58585984], dtype=float32))"
            ]
          },
          "metadata": {},
          "execution_count": 10
        }
      ]
    },
    {
      "cell_type": "code",
      "source": [
        "covid_df.iloc[indx].title"
      ],
      "metadata": {
        "colab": {
          "base_uri": "https://localhost:8080/"
        },
        "id": "o1VKGrsWxJec",
        "outputId": "72e8b104-40e7-4193-f6aa-8ca865c35544"
      },
      "execution_count": 11,
      "outputs": [
        {
          "output_type": "execute_result",
          "data": {
            "text/plain": [
              "6378                 Blockchain Matters—Lex Cryptographia and the Displacement of Legal Symbolics and Imaginaries\n",
              "4301                                                         Cybersecurity, Data Privacy and Blockchain: A Review\n",
              "11838                             Know Your Customer: Balancing Innovation and Regulation for Financial Inclusion\n",
              "4472     Research contributions and challenges in DLT-based cryptocurrency regulation: a systematic mapping study\n",
              "Name: title, dtype: object"
            ]
          },
          "metadata": {},
          "execution_count": 11
        }
      ]
    },
    {
      "cell_type": "markdown",
      "source": [
        "seems like it works, all of them(but index 11838) refer to Blocklchain or cryptocurrency. lets take a deeper look to the unusual result:"
      ],
      "metadata": {
        "id": "5ggf76AWxQnJ"
      }
    },
    {
      "cell_type": "code",
      "source": [
        "covid_df.iloc[11838].processed_abstract"
      ],
      "metadata": {
        "colab": {
          "base_uri": "https://localhost:8080/",
          "height": 174
        },
        "id": "cOAVgBs-xnsX",
        "outputId": "d497b52f-74fb-4006-c861-7dbde39b8645"
      },
      "execution_count": 12,
      "outputs": [
        {
          "output_type": "execute_result",
          "data": {
            "text/plain": [
              "\"Financial inclusion depends providing adjusted services citizens disclosed vulnerabilities . At time , financial industry needs adhere strict regulatory framework , often conflict desire inclusive , adaptive , privacy-preserving services . In paper study tension impacts deployment privacy-sensitive technologies aimed financial inclusion . We conduct qualitative study banking experts understand perspective service development financial inclusion . We build demonstrate prototype solution based open source decentralized identifiers verifiable credentials software report feedback banking experts system . The technology promising thanks selective disclosure vulnerabilities full control individual . This support GDPR requirement , time , clear tension introducing technologies fulfilling regulatory requirements , particularly respect `Know Your Customer . ' We consider policy implications stemming tensions provide guidelines design related technologies .\""
            ],
            "application/vnd.google.colaboratory.intrinsic+json": {
              "type": "string"
            }
          },
          "metadata": {},
          "execution_count": 12
        }
      ]
    },
    {
      "cell_type": "markdown",
      "source": [
        "it refers to decentralized identifiers verifiable credentials, which seem to be close to blockchain technology."
      ],
      "metadata": {
        "id": "P2XQVJr8yBJW"
      }
    },
    {
      "cell_type": "markdown",
      "source": [
        "this time we'll use the Transformer architecture"
      ],
      "metadata": {
        "id": "xWSA2Cvh5L3V"
      }
    },
    {
      "cell_type": "code",
      "source": [
        "sentence_util_title = SentenceUtil(covid_df.title)"
      ],
      "metadata": {
        "colab": {
          "base_uri": "https://localhost:8080/"
        },
        "id": "V7fKh5I25H1-",
        "outputId": "e4af4c4d-c142-4ca0-c2b8-4bc93c94c837"
      },
      "execution_count": 13,
      "outputs": [
        {
          "output_type": "stream",
          "name": "stdout",
          "text": [
            "module https://tfhub.dev/google/universal-sentence-encoder-large/5 loaded\n"
          ]
        },
        {
          "output_type": "stream",
          "name": "stderr",
          "text": [
            "100%|██████████| 19999/19999 [07:41<00:00, 43.37it/s]\n"
          ]
        }
      ]
    },
    {
      "cell_type": "markdown",
      "source": [
        "Now we'll try to combine the similarities with variable coefficients, we want the abstract to have the most weight (we think it has enough data, but still managable to be embedded successfully), then the title (since it is too short), lastly the body (since it is very long and embedding could be problematic)."
      ],
      "metadata": {
        "id": "LGDv7qCq4lx1"
      }
    },
    {
      "cell_type": "code",
      "source": [
        "C_title = 0.4\n",
        "C_abstract = 0.5\n",
        "C_body = 0.1"
      ],
      "metadata": {
        "id": "63IEzmMh43YV"
      },
      "execution_count": 33,
      "outputs": []
    },
    {
      "cell_type": "code",
      "source": [
        "combined_similarities = C_title*sentence_util_title.similarity + C_abstract*sentence_util_abstract.similarity + C_body*sentence_util_body.similarity"
      ],
      "metadata": {
        "id": "WWPX_5rM4Q9E"
      },
      "execution_count": 34,
      "outputs": []
    },
    {
      "cell_type": "code",
      "source": [
        "def get_k_most_similar(similarity, compared_index, k):\n",
        "    topk_ind = similarity[compared_index, :].argsort()[-(k + 1):][::-1][1:]\n",
        "    return topk_ind, similarity[compared_index, :][topk_ind]"
      ],
      "metadata": {
        "id": "yofUC0EY_PMo"
      },
      "execution_count": 26,
      "outputs": []
    },
    {
      "cell_type": "code",
      "source": [
        "indx, similarities = get_k_most_similar(combined_similarities, compared_index=0, k=4)\n",
        "indx, similarities"
      ],
      "metadata": {
        "colab": {
          "base_uri": "https://localhost:8080/"
        },
        "id": "B4hUlb7t_1EC",
        "outputId": "ec61cd27-cd06-4685-8f22-49975686546e"
      },
      "execution_count": 35,
      "outputs": [
        {
          "output_type": "execute_result",
          "data": {
            "text/plain": [
              "(array([11522,  4512,  2257, 16642]),\n",
              " array([0.54065406, 0.4891051 , 0.47174174, 0.4547489 ], dtype=float32))"
            ]
          },
          "metadata": {},
          "execution_count": 35
        }
      ]
    },
    {
      "cell_type": "code",
      "source": [
        "covid_df.iloc[indx].title"
      ],
      "metadata": {
        "colab": {
          "base_uri": "https://localhost:8080/"
        },
        "id": "mJO6ssDKDVbY",
        "outputId": "1cb53dc5-ee8c-4fc2-c441-fb67815d68e7"
      },
      "execution_count": 36,
      "outputs": [
        {
          "output_type": "execute_result",
          "data": {
            "text/plain": [
              "11522                                                             Blockchain-based Platform for Secure Sharing and Validation of Vaccination Certificates\n",
              "4512                                                          Cyber governance studies in ensuring cybersecurity: an overview of cybersecurity governance\n",
              "2257     Perceived Security Risk Based on Moderating Factors for Blockchain Technology Applications in Cloud Storage to Achieve Secure Healthcare Systems\n",
              "16642                                                                              A Privacy-Preserving Platform for Recording COVID-19 Vaccine Passports\n",
              "Name: title, dtype: object"
            ]
          },
          "metadata": {},
          "execution_count": 36
        }
      ]
    },
    {
      "cell_type": "code",
      "source": [
        "covid_df.iloc[16642].processed_abstract"
      ],
      "metadata": {
        "colab": {
          "base_uri": "https://localhost:8080/",
          "height": 174
        },
        "id": "SHGAJem0DgbA",
        "outputId": "76089c0a-7f6a-4556-d7e8-53921dde1058"
      },
      "execution_count": 20,
      "outputs": [
        {
          "output_type": "execute_result",
          "data": {
            "text/plain": [
              "'Digital vaccine passports one main solutions would allow restart travel post COVID-19 world . Trust , scalability security key challenges one must overcome implementing vaccine passport . Initial approaches attempt solve problem centralised systems trusted authorities . However , sharing vaccine passport data different organisations , regions countries become major challenge . This paper designs new platform architecture creating , storing verifying digital COVID-19 vaccine certifications . The platform makes use InterPlanetary File System ( IPFS ) guarantee single point failure allow data securely distributed globally . Blockchain smart contracts also integrated platform define policies log access vaccine passport data ensuring actions audited verifiably immutable . Our proposed platform realises General Data Protection Regulation ( GDPR ) requirements terms user consent , data encryption , data erasure accountability obligations . We assess scalability performance platform IPFS Blockchain test networks .'"
            ],
            "application/vnd.google.colaboratory.intrinsic+json": {
              "type": "string"
            }
          },
          "metadata": {},
          "execution_count": 20
        }
      ]
    },
    {
      "cell_type": "code",
      "source": [
        "covid_df.iloc[4512].processed_abstract"
      ],
      "metadata": {
        "colab": {
          "base_uri": "https://localhost:8080/",
          "height": 192
        },
        "id": "VZtwecHiDtcI",
        "outputId": "e3e2b48b-69c0-467a-8183-a0254d4c18b8"
      },
      "execution_count": 21,
      "outputs": [
        {
          "output_type": "execute_result",
          "data": {
            "text/plain": [
              "'With exponential increase digital data cyber environments , security measures gained importance . Cybersecurity threats revealed national international units , number threats increasing daily . The elimination cybersecurity risks possible effective cybersecurity strategy . Since concept management sufficient , implementation strategy possible cyber governance , includes stakeholders management processes . This study emphasizes importance necessity cyber governance ensuring cybersecurity . The research results cybersecurity governance examined . A descriptive research model end . In terms research philosophy , basic research model documentary research model created regard application method . The universe research consists studies obtained Web Science , EBSCO , Scopus , Google Scholar , TR Index . Studies last 5 years downloaded determined keywords . The result showed although studies produce local solutions cybersecurity governance different countries , general governance framework established yet . On contrary , latent struggle retain management area , governance .'"
            ],
            "application/vnd.google.colaboratory.intrinsic+json": {
              "type": "string"
            }
          },
          "metadata": {},
          "execution_count": 21
        }
      ]
    },
    {
      "cell_type": "code",
      "source": [
        "sentence_util_title.similarity[0, 4512], sentence_util_abstract.similarity[0, 4512], sentence_util_body.similarity[0, 4512], "
      ],
      "metadata": {
        "colab": {
          "base_uri": "https://localhost:8080/"
        },
        "id": "mjuZgtPcEXIp",
        "outputId": "933ce6eb-1775-4581-f48e-bc62a843dcf8"
      },
      "execution_count": 23,
      "outputs": [
        {
          "output_type": "execute_result",
          "data": {
            "text/plain": [
              "(0.40601325, 0.5445313, 0.5443417)"
            ]
          },
          "metadata": {},
          "execution_count": 23
        }
      ]
    },
    {
      "cell_type": "markdown",
      "source": [
        "even though blockchain is not mentioned, cybersecurity risks and strategies are mentioned, which seems like a reasonable similarity."
      ],
      "metadata": {
        "id": "ra39vE82EuPn"
      }
    }
  ]
}